{
 "cells": [
  {
   "attachments": {},
   "cell_type": "markdown",
   "metadata": {},
   "source": [
    "##### World Bank API Python library documentation\n",
    "###### Install using . pip install wbgapi. The install doesn't work in python files or jupyter notebook. Must be installed in terminal.\n",
    "###### Documentation is located at https://pypi.org/project/wbgapi/.\n",
    "###### Documentation states that the World Development Indicators database id is 2."
   ]
  }
 ],
 "metadata": {
  "kernelspec": {
   "display_name": "pythondata",
   "language": "python",
   "name": "python3"
  },
  "language_info": {
   "name": "python",
   "version": "3.6.13 |Anaconda, Inc.| (default, Mar 16 2021, 11:37:27) [MSC v.1916 64 bit (AMD64)]"
  },
  "orig_nbformat": 4,
  "vscode": {
   "interpreter": {
    "hash": "0ace32726e794be20372f770cea07557a40b72fa94450526ed90f788db020f9c"
   }
  }
 },
 "nbformat": 4,
 "nbformat_minor": 2
}
